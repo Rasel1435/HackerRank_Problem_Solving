{
 "cells": [
  {
   "cell_type": "markdown",
   "metadata": {},
   "source": [
    "# Task"
   ]
  },
  {
   "cell_type": "code",
   "execution_count": 1,
   "metadata": {},
   "outputs": [],
   "source": [
    "# Mean, Var, and Std\n",
    "\n",
    "# mean\n",
    "# The mean tool computes the arithmetic mean along the specified axis.\n",
    "\n",
    "# import numpy\n",
    "\n",
    "# my_array = numpy.array([ [1, 2], [3, 4] ])\n",
    "\n",
    "# print numpy.mean(my_array, axis = 0)        #Output : [ 2.  3.]\n",
    "# print numpy.mean(my_array, axis = 1)        #Output : [ 1.5  3.5]\n",
    "# print numpy.mean(my_array, axis = None)     #Output : 2.5\n",
    "# print numpy.mean(my_array)                  #Output : 2.5\n",
    "# By default, the axis is None. Therefore, it computes the mean of the flattened array.\n",
    "\n",
    "# var\n",
    "# The var tool computes the arithmetic variance along the specified axis.\n",
    "\n",
    "# import numpy\n",
    "\n",
    "# my_array = numpy.array([ [1, 2], [3, 4] ])\n",
    "\n",
    "# print numpy.var(my_array, axis = 0)         #Output : [ 1.  1.]\n",
    "# print numpy.var(my_array, axis = 1)         #Output : [ 0.25  0.25]\n",
    "# print numpy.var(my_array, axis = None)      #Output : 1.25\n",
    "# print numpy.var(my_array)                   #Output : 1.25\n",
    "# By default, the axis is None. Therefore, it computes the variance of the flattened array.\n",
    "\n",
    "# std\n",
    "# The std tool computes the arithmetic standard deviation along the specified axis.\n",
    "\n",
    "# import numpy\n",
    "\n",
    "# my_array = numpy.array([ [1, 2], [3, 4] ])\n",
    "\n",
    "# print numpy.std(my_array, axis = 0)         #Output : [ 1.  1.]\n",
    "# print numpy.std(my_array, axis = 1)         #Output : [ 0.5  0.5]\n",
    "# print numpy.std(my_array, axis = None)      #Output : 1.11803398875\n",
    "# print numpy.std(my_array)                   #Output : 1.11803398875\n",
    "# By default, the axis is None. Therefore, it computes the standard deviation of the flattened array.\n",
    "\n",
    "# Task\n",
    "# You are given a 2-D array of size NxM.\n",
    "# Your task is to find:\n",
    "# 1. The mean along axis 1\n",
    "# 2. The var along axis 0\n",
    "# 3. The std along axis none\n",
    "\n",
    "# Input Format\n",
    "# The first line contains the space separated values of N and M.\n",
    "# The next N lines contains M space separated integers.\n",
    "\n",
    "# Output Format\n",
    "# First, print the mean.\n",
    "# Second, print the var.\n",
    "# Third, print the std.\n"
   ]
  },
  {
   "cell_type": "markdown",
   "metadata": {},
   "source": [
    "# Soluation"
   ]
  },
  {
   "cell_type": "code",
   "execution_count": 2,
   "metadata": {},
   "outputs": [
    {
     "ename": "SyntaxError",
     "evalue": "Missing parentheses in call to 'print'. Did you mean print(...)? (1296656528.py, line 5)",
     "output_type": "error",
     "traceback": [
      "\u001b[1;36m  Input \u001b[1;32mIn [2]\u001b[1;36m\u001b[0m\n\u001b[1;33m    print numpy.mean(b, axis=1)\u001b[0m\n\u001b[1;37m    ^\u001b[0m\n\u001b[1;31mSyntaxError\u001b[0m\u001b[1;31m:\u001b[0m Missing parentheses in call to 'print'. Did you mean print(...)?\n"
     ]
    }
   ],
   "source": [
    "import numpy as np\n",
    "\n",
    "a = map(int, raw_input().split())\n",
    "b = np.array([raw_input().split() for i in range(a[0])], int)\n",
    "\n",
    "print np.mean(b, axis=1)\n",
    "print np.var(b, axis=0)\n",
    "print np.std(b, axis=None)\n"
   ]
  }
 ],
 "metadata": {
  "kernelspec": {
   "display_name": "Python 3.10.5 64-bit",
   "language": "python",
   "name": "python3"
  },
  "language_info": {
   "codemirror_mode": {
    "name": "ipython",
    "version": 3
   },
   "file_extension": ".py",
   "mimetype": "text/x-python",
   "name": "python",
   "nbconvert_exporter": "python",
   "pygments_lexer": "ipython3",
   "version": "3.10.5"
  },
  "orig_nbformat": 4,
  "vscode": {
   "interpreter": {
    "hash": "afb734500600fd355917ca529030176ea0ca205570884b88f2f6f7d791fd3fbe"
   }
  }
 },
 "nbformat": 4,
 "nbformat_minor": 2
}
